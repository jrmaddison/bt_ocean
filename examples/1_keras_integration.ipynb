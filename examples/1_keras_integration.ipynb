{
 "cells": [
  {
   "cell_type": "markdown",
   "id": "45b018f1-04fc-4b44-a785-faa0fdd9f6b7",
   "metadata": {},
   "source": [
    "# Keras integration\n",
    "\n",
    "This notebook describes the combination of bt_ocean with Keras.\n",
    "\n",
    "bt_ocean allows a neural network to be used to define a right-hand-side forcing term, which can then be trained using time-dependent data. Here, to demonstrate the principles, we will consider an extremely simple case of a Keras model consisting of a single layer which simply outputs the degrees of freedom for a function &ndash; so that training reduces to the problem of finding this function. Specifically we will try to find the wind forcing term $Q$ used on the right-hand-side of the barotropic vorticity equation. This toy problem demonstrates the key ideas &ndash; while remaining small enough to run quickly!"
   ]
  },
  {
   "cell_type": "markdown",
   "id": "c755be30-a57c-4554-8d28-27da9052f4f9",
   "metadata": {},
   "source": [
    "## Training data\n",
    "\n",
    "For this simple toy problem we will run a low resolution model for a short amount of time."
   ]
  },
  {
   "cell_type": "code",
   "execution_count": 1,
   "id": "508b3675-1cd7-434d-989e-09055583b039",
   "metadata": {
    "execution": {
     "iopub.execute_input": "2025-08-05T15:46:22.347653Z",
     "iopub.status.busy": "2025-08-05T15:46:22.346858Z",
     "iopub.status.idle": "2025-08-05T15:46:30.082123Z",
     "shell.execute_reply": "2025-08-05T15:46:30.080776Z"
    }
   },
   "outputs": [
    {
     "name": "stdout",
     "output_type": "stream",
     "text": [
      "model.n // n_day=1 model.ke()=Array(8.04060177e+08, dtype=float64)\n"
     ]
    },
    {
     "name": "stdout",
     "output_type": "stream",
     "text": [
      "model.n // n_day=2 model.ke()=Array(3.14111617e+09, dtype=float64)\n"
     ]
    },
    {
     "name": "stdout",
     "output_type": "stream",
     "text": [
      "model.n // n_day=3 model.ke()=Array(6.83963961e+09, dtype=float64)\n"
     ]
    },
    {
     "name": "stdout",
     "output_type": "stream",
     "text": [
      "model.n // n_day=4 model.ke()=Array(1.16664391e+10, dtype=float64)\n"
     ]
    },
    {
     "name": "stdout",
     "output_type": "stream",
     "text": [
      "model.n // n_day=5 model.ke()=Array(1.73523662e+10, dtype=float64)\n"
     ]
    }
   ],
   "source": [
    "%matplotlib inline\n",
    "\n",
    "from bt_ocean.model import CNAB2Solver\n",
    "from bt_ocean.network import Dynamics\n",
    "from bt_ocean.parameters import parameters, tau_0, rho_0, D, Q\n",
    "\n",
    "import jax\n",
    "import jax.numpy as jnp\n",
    "import keras\n",
    "import matplotlib.pyplot as plt\n",
    "\n",
    "jax.config.update(\"jax_enable_x64\", True)\n",
    "keras.backend.set_floatx(\"float64\")\n",
    "\n",
    "n_hour = 2\n",
    "parameters = dict(parameters)\n",
    "parameters.update({\"N_x\": 64,\n",
    "                   \"N_y\": 64,\n",
    "                   \"dt\": 3600 / n_hour,\n",
    "                   \"nu\": 2500})\n",
    "model = CNAB2Solver(parameters)\n",
    "model.fields[\"Q\"] = Q(model.grid)\n",
    "\n",
    "n_day = 24 * n_hour\n",
    "N = 5 * n_day\n",
    "\n",
    "model.initialize()\n",
    "data = [model.fields[\"zeta\"]]\n",
    "for _ in range(N):\n",
    "    model.step()\n",
    "    data.append(model.fields[\"zeta\"])\n",
    "    if model.n % n_day == 0:\n",
    "        print(f\"{model.n // n_day=} {model.ke()=}\")\n",
    "data = jnp.array(data)"
   ]
  },
  {
   "cell_type": "markdown",
   "id": "d387e29e-ea96-4ba7-8327-2ae19241b045",
   "metadata": {},
   "source": [
    "## A simple Keras model\n",
    "\n",
    "We now set up our Keras model. To do this we first define a `keras.models.Model` which defines a map from our state to a forcing term which we add on the right-hand-side of the barotropic vorticity equation, and a callable which uses this map."
   ]
  },
  {
   "cell_type": "code",
   "execution_count": 2,
   "id": "da7d0234-e47b-4449-8c44-89f7eff02437",
   "metadata": {
    "execution": {
     "iopub.execute_input": "2025-08-05T15:46:30.086560Z",
     "iopub.status.busy": "2025-08-05T15:46:30.085890Z",
     "iopub.status.idle": "2025-08-05T15:46:30.103783Z",
     "shell.execute_reply": "2025-08-05T15:46:30.102248Z"
    }
   },
   "outputs": [],
   "source": [
    "import keras\n",
    "\n",
    "\n",
    "class Term(keras.layers.Layer):\n",
    "    def __init__(self, grid, **kwargs):\n",
    "        super().__init__(**kwargs)\n",
    "        self.__b = self.add_weight(shape=(grid.N_x + 1, grid.N_y + 1), dtype=grid.fdtype, initializer=\"zeros\")\n",
    "\n",
    "    def compute_output_shape(self, input_shape):\n",
    "        return input_shape[:-1] + self.__b.shape\n",
    "\n",
    "    def call(self, inputs):\n",
    "        return jnp.tensordot(jnp.ones_like(inputs, shape=inputs.shape[:-1]), self.__b, axes=0)\n",
    "\n",
    "\n",
    "Q_input_layer = keras.layers.Input((0,))\n",
    "Q_network = keras.models.Model(inputs=Q_input_layer, outputs=Term(model.grid)(Q_input_layer))\n",
    "Q_weight = tau_0 * jnp.pi / (D * rho_0 * model.grid.L_y)\n",
    "\n",
    "\n",
    "def update(dynamics, Q_network):\n",
    "    dynamics.fields[\"Q\"] = Q_weight * Q_network(jnp.zeros(shape=(1, 0)))[0, :, :]"
   ]
  },
  {
   "cell_type": "markdown",
   "id": "d23edf22-f916-41fc-8095-2bdd8d9be6c9",
   "metadata": {},
   "source": [
    "We now set up a `Dynamics` layer. This is a custom Keras layer which represents the mapping from an initial condition, in terms of the initial vorticity fields, to dynamical trajectories, in terms of the vorticity fields evaluated at later times. The trajectories are computed by solving the barotropic vorticity equation, while being forced with an extra right-hand-side term defined by the given `keras.models.Model`.\n",
    "\n",
    "In the following we use the AdamW optimizer, but here we have only one batch of size one. In fact here we are solving a standard variational optimization problem, but without an explicit regularization term, and so for this problem it might be better to use a deterministic optimizer. We do, however, increase the learning rate."
   ]
  },
  {
   "cell_type": "code",
   "execution_count": 3,
   "id": "a94eda1c-2556-4c99-be23-b57df4e73967",
   "metadata": {
    "execution": {
     "iopub.execute_input": "2025-08-05T15:46:30.108506Z",
     "iopub.status.busy": "2025-08-05T15:46:30.108004Z",
     "iopub.status.idle": "2025-08-05T15:46:30.229957Z",
     "shell.execute_reply": "2025-08-05T15:46:30.228374Z"
    }
   },
   "outputs": [],
   "source": [
    "output_weight = (model.grid.N_x + 1) * (model.grid.N_y + 1) * jnp.sqrt(model.grid.W / (4 * model.grid.L_x * model.grid.L_y)) / (model.beta * model.grid.L_y)\n",
    "dynamics_input_layer = keras.layers.Input((model.grid.N_x + 1, model.grid.N_y + 1))\n",
    "dynamics_layer = Dynamics(\n",
    "    model, update, Q_network, N=1, n_output=N, output_weight=output_weight)\n",
    "dynamics_network = keras.models.Model(\n",
    "    inputs=dynamics_input_layer, outputs=dynamics_layer(dynamics_input_layer))\n",
    "dynamics_network.compile(optimizer=keras.optimizers.AdamW(learning_rate=0.1),\n",
    "                         loss=\"mean_squared_error\")"
   ]
  },
  {
   "cell_type": "markdown",
   "id": "aaea48a7-2329-49d6-9c5f-6e0f7434c678",
   "metadata": {},
   "source": [
    "## Training\n",
    "\n",
    "We are now ready to train. In this simple problem we simply use the full trajectory as a single input-output pair, and since we know the answer we supply no validation data."
   ]
  },
  {
   "cell_type": "code",
   "execution_count": 4,
   "id": "327c0337-d2af-47d5-8047-cc3e9b2b0be0",
   "metadata": {
    "execution": {
     "iopub.execute_input": "2025-08-05T15:46:30.234704Z",
     "iopub.status.busy": "2025-08-05T15:46:30.234197Z",
     "iopub.status.idle": "2025-08-05T15:46:46.672045Z",
     "shell.execute_reply": "2025-08-05T15:46:46.671407Z"
    }
   },
   "outputs": [
    {
     "name": "stdout",
     "output_type": "stream",
     "text": [
      "Epoch 1/40\n"
     ]
    },
    {
     "name": "stdout",
     "output_type": "stream",
     "text": [
      "1/1 - 2s - 2s/step - loss: 0.0127\n"
     ]
    },
    {
     "name": "stdout",
     "output_type": "stream",
     "text": [
      "Epoch 2/40\n"
     ]
    },
    {
     "name": "stdout",
     "output_type": "stream",
     "text": [
      "1/1 - 1s - 1s/step - loss: 0.0104\n"
     ]
    },
    {
     "name": "stdout",
     "output_type": "stream",
     "text": [
      "Epoch 3/40\n"
     ]
    },
    {
     "name": "stdout",
     "output_type": "stream",
     "text": [
      "1/1 - 0s - 362ms/step - loss: 0.0082\n"
     ]
    },
    {
     "name": "stdout",
     "output_type": "stream",
     "text": [
      "Epoch 4/40\n"
     ]
    },
    {
     "name": "stdout",
     "output_type": "stream",
     "text": [
      "1/1 - 0s - 291ms/step - loss: 0.0063\n"
     ]
    },
    {
     "name": "stdout",
     "output_type": "stream",
     "text": [
      "Epoch 5/40\n"
     ]
    },
    {
     "name": "stdout",
     "output_type": "stream",
     "text": [
      "1/1 - 0s - 383ms/step - loss: 0.0046\n"
     ]
    },
    {
     "name": "stdout",
     "output_type": "stream",
     "text": [
      "Epoch 6/40\n"
     ]
    },
    {
     "name": "stdout",
     "output_type": "stream",
     "text": [
      "1/1 - 0s - 405ms/step - loss: 0.0032\n"
     ]
    },
    {
     "name": "stdout",
     "output_type": "stream",
     "text": [
      "Epoch 7/40\n"
     ]
    },
    {
     "name": "stdout",
     "output_type": "stream",
     "text": [
      "1/1 - 0s - 284ms/step - loss: 0.0022\n"
     ]
    },
    {
     "name": "stdout",
     "output_type": "stream",
     "text": [
      "Epoch 8/40\n"
     ]
    },
    {
     "name": "stdout",
     "output_type": "stream",
     "text": [
      "1/1 - 0s - 328ms/step - loss: 0.0014\n"
     ]
    },
    {
     "name": "stdout",
     "output_type": "stream",
     "text": [
      "Epoch 9/40\n"
     ]
    },
    {
     "name": "stdout",
     "output_type": "stream",
     "text": [
      "1/1 - 0s - 286ms/step - loss: 8.2696e-04\n"
     ]
    },
    {
     "name": "stdout",
     "output_type": "stream",
     "text": [
      "Epoch 10/40\n"
     ]
    },
    {
     "name": "stdout",
     "output_type": "stream",
     "text": [
      "1/1 - 0s - 278ms/step - loss: 4.9747e-04\n"
     ]
    },
    {
     "name": "stdout",
     "output_type": "stream",
     "text": [
      "Epoch 11/40\n"
     ]
    },
    {
     "name": "stdout",
     "output_type": "stream",
     "text": [
      "1/1 - 0s - 384ms/step - loss: 3.4275e-04\n"
     ]
    },
    {
     "name": "stdout",
     "output_type": "stream",
     "text": [
      "Epoch 12/40\n"
     ]
    },
    {
     "name": "stdout",
     "output_type": "stream",
     "text": [
      "1/1 - 0s - 332ms/step - loss: 3.1915e-04\n"
     ]
    },
    {
     "name": "stdout",
     "output_type": "stream",
     "text": [
      "Epoch 13/40\n"
     ]
    },
    {
     "name": "stdout",
     "output_type": "stream",
     "text": [
      "1/1 - 0s - 347ms/step - loss: 3.8344e-04\n"
     ]
    },
    {
     "name": "stdout",
     "output_type": "stream",
     "text": [
      "Epoch 14/40\n"
     ]
    },
    {
     "name": "stdout",
     "output_type": "stream",
     "text": [
      "1/1 - 0s - 269ms/step - loss: 4.9586e-04\n"
     ]
    },
    {
     "name": "stdout",
     "output_type": "stream",
     "text": [
      "Epoch 15/40\n"
     ]
    },
    {
     "name": "stdout",
     "output_type": "stream",
     "text": [
      "1/1 - 0s - 300ms/step - loss: 6.2267e-04\n"
     ]
    },
    {
     "name": "stdout",
     "output_type": "stream",
     "text": [
      "Epoch 16/40\n"
     ]
    },
    {
     "name": "stdout",
     "output_type": "stream",
     "text": [
      "1/1 - 0s - 264ms/step - loss: 7.3773e-04\n"
     ]
    },
    {
     "name": "stdout",
     "output_type": "stream",
     "text": [
      "Epoch 17/40\n"
     ]
    },
    {
     "name": "stdout",
     "output_type": "stream",
     "text": [
      "1/1 - 0s - 344ms/step - loss: 8.2326e-04\n"
     ]
    },
    {
     "name": "stdout",
     "output_type": "stream",
     "text": [
      "Epoch 18/40\n"
     ]
    },
    {
     "name": "stdout",
     "output_type": "stream",
     "text": [
      "1/1 - 0s - 316ms/step - loss: 8.6954e-04\n"
     ]
    },
    {
     "name": "stdout",
     "output_type": "stream",
     "text": [
      "Epoch 19/40\n"
     ]
    },
    {
     "name": "stdout",
     "output_type": "stream",
     "text": [
      "1/1 - 0s - 279ms/step - loss: 8.7397e-04\n"
     ]
    },
    {
     "name": "stdout",
     "output_type": "stream",
     "text": [
      "Epoch 20/40\n"
     ]
    },
    {
     "name": "stdout",
     "output_type": "stream",
     "text": [
      "1/1 - 0s - 323ms/step - loss: 8.3959e-04\n"
     ]
    },
    {
     "name": "stdout",
     "output_type": "stream",
     "text": [
      "Epoch 21/40\n"
     ]
    },
    {
     "name": "stdout",
     "output_type": "stream",
     "text": [
      "1/1 - 0s - 361ms/step - loss: 7.7340e-04\n"
     ]
    },
    {
     "name": "stdout",
     "output_type": "stream",
     "text": [
      "Epoch 22/40\n"
     ]
    },
    {
     "name": "stdout",
     "output_type": "stream",
     "text": [
      "1/1 - 0s - 306ms/step - loss: 6.8469e-04\n"
     ]
    },
    {
     "name": "stdout",
     "output_type": "stream",
     "text": [
      "Epoch 23/40\n"
     ]
    },
    {
     "name": "stdout",
     "output_type": "stream",
     "text": [
      "1/1 - 0s - 315ms/step - loss: 5.8354e-04\n"
     ]
    },
    {
     "name": "stdout",
     "output_type": "stream",
     "text": [
      "Epoch 24/40\n"
     ]
    },
    {
     "name": "stdout",
     "output_type": "stream",
     "text": [
      "1/1 - 0s - 401ms/step - loss: 4.7961e-04\n"
     ]
    },
    {
     "name": "stdout",
     "output_type": "stream",
     "text": [
      "Epoch 25/40\n"
     ]
    },
    {
     "name": "stdout",
     "output_type": "stream",
     "text": [
      "1/1 - 0s - 381ms/step - loss: 3.8121e-04\n"
     ]
    },
    {
     "name": "stdout",
     "output_type": "stream",
     "text": [
      "Epoch 26/40\n"
     ]
    },
    {
     "name": "stdout",
     "output_type": "stream",
     "text": [
      "1/1 - 0s - 424ms/step - loss: 2.9468e-04\n"
     ]
    },
    {
     "name": "stdout",
     "output_type": "stream",
     "text": [
      "Epoch 27/40\n"
     ]
    },
    {
     "name": "stdout",
     "output_type": "stream",
     "text": [
      "1/1 - 0s - 337ms/step - loss: 2.2413e-04\n"
     ]
    },
    {
     "name": "stdout",
     "output_type": "stream",
     "text": [
      "Epoch 28/40\n"
     ]
    },
    {
     "name": "stdout",
     "output_type": "stream",
     "text": [
      "1/1 - 0s - 319ms/step - loss: 1.7138e-04\n"
     ]
    },
    {
     "name": "stdout",
     "output_type": "stream",
     "text": [
      "Epoch 29/40\n"
     ]
    },
    {
     "name": "stdout",
     "output_type": "stream",
     "text": [
      "1/1 - 0s - 324ms/step - loss: 1.3617e-04\n"
     ]
    },
    {
     "name": "stdout",
     "output_type": "stream",
     "text": [
      "Epoch 30/40\n"
     ]
    },
    {
     "name": "stdout",
     "output_type": "stream",
     "text": [
      "1/1 - 0s - 351ms/step - loss: 1.1656e-04\n"
     ]
    },
    {
     "name": "stdout",
     "output_type": "stream",
     "text": [
      "Epoch 31/40\n"
     ]
    },
    {
     "name": "stdout",
     "output_type": "stream",
     "text": [
      "1/1 - 0s - 323ms/step - loss: 1.0943e-04\n"
     ]
    },
    {
     "name": "stdout",
     "output_type": "stream",
     "text": [
      "Epoch 32/40\n"
     ]
    },
    {
     "name": "stdout",
     "output_type": "stream",
     "text": [
      "1/1 - 0s - 320ms/step - loss: 1.1098e-04\n"
     ]
    },
    {
     "name": "stdout",
     "output_type": "stream",
     "text": [
      "Epoch 33/40\n"
     ]
    },
    {
     "name": "stdout",
     "output_type": "stream",
     "text": [
      "1/1 - 0s - 360ms/step - loss: 1.1733e-04\n"
     ]
    },
    {
     "name": "stdout",
     "output_type": "stream",
     "text": [
      "Epoch 34/40\n"
     ]
    },
    {
     "name": "stdout",
     "output_type": "stream",
     "text": [
      "1/1 - 0s - 327ms/step - loss: 1.2494e-04\n"
     ]
    },
    {
     "name": "stdout",
     "output_type": "stream",
     "text": [
      "Epoch 35/40\n"
     ]
    },
    {
     "name": "stdout",
     "output_type": "stream",
     "text": [
      "1/1 - 0s - 364ms/step - loss: 1.3095e-04\n"
     ]
    },
    {
     "name": "stdout",
     "output_type": "stream",
     "text": [
      "Epoch 36/40\n"
     ]
    },
    {
     "name": "stdout",
     "output_type": "stream",
     "text": [
      "1/1 - 0s - 287ms/step - loss: 1.3341e-04\n"
     ]
    },
    {
     "name": "stdout",
     "output_type": "stream",
     "text": [
      "Epoch 37/40\n"
     ]
    },
    {
     "name": "stdout",
     "output_type": "stream",
     "text": [
      "1/1 - 0s - 320ms/step - loss: 1.3133e-04\n"
     ]
    },
    {
     "name": "stdout",
     "output_type": "stream",
     "text": [
      "Epoch 38/40\n"
     ]
    },
    {
     "name": "stdout",
     "output_type": "stream",
     "text": [
      "1/1 - 0s - 354ms/step - loss: 1.2460e-04\n"
     ]
    },
    {
     "name": "stdout",
     "output_type": "stream",
     "text": [
      "Epoch 39/40\n"
     ]
    },
    {
     "name": "stdout",
     "output_type": "stream",
     "text": [
      "1/1 - 0s - 359ms/step - loss: 1.1387e-04\n"
     ]
    },
    {
     "name": "stdout",
     "output_type": "stream",
     "text": [
      "Epoch 40/40\n"
     ]
    },
    {
     "name": "stdout",
     "output_type": "stream",
     "text": [
      "1/1 - 0s - 280ms/step - loss: 1.0025e-04\n"
     ]
    }
   ],
   "source": [
    "input_data = jnp.reshape(data[0, :, :], (1,) + data.shape[1:])\n",
    "output_data = jnp.reshape(data[1:, :, :], (1, data.shape[0] - 1) + data.shape[1:])\n",
    "_ = dynamics_network.fit(input_data, output_data * output_weight, epochs=40, verbose=2)"
   ]
  },
  {
   "cell_type": "markdown",
   "id": "b49517ff-68d1-403b-ad5e-abc88a7386d4",
   "metadata": {},
   "source": [
    "Let's see how well we've done."
   ]
  },
  {
   "cell_type": "code",
   "execution_count": 5,
   "id": "c56ce9f5-406f-4a6a-a922-134d9726a00d",
   "metadata": {
    "execution": {
     "iopub.execute_input": "2025-08-05T15:46:46.674293Z",
     "iopub.status.busy": "2025-08-05T15:46:46.674062Z",
     "iopub.status.idle": "2025-08-05T15:46:48.184141Z",
     "shell.execute_reply": "2025-08-05T15:46:48.183228Z"
    }
   },
   "outputs": [
    {
     "data": {
      "image/png": "[encoded data removed]",
      "text/plain": [
       "<Figure size 640x480 with 2 Axes>"
      ]
     },
     "metadata": {},
     "output_type": "display_data"
    },
    {
     "data": {
      "image/png": "[encoded data removed]",
      "text/plain": [
       "<Figure size 640x480 with 2 Axes>"
      ]
     },
     "metadata": {},
     "output_type": "display_data"
    },
    {
     "data": {
      "image/png": "[encoded data removed]",
      "text/plain": [
       "<Figure size 640x480 with 2 Axes>"
      ]
     },
     "metadata": {},
     "output_type": "display_data"
    }
   ],
   "source": [
    "result = Q_weight * dynamics_network.get_weights()[0]\n",
    "ref = model.fields[\"Q\"]\n",
    "\n",
    "plt.figure()\n",
    "m = abs(result).max()\n",
    "plt.contourf(model.grid.X, model.grid.Y, result,\n",
    "            jnp.linspace(-m * (1 + 1.0e-10), m * (1 + 1.0e-10), 64), cmap=\"bwr\")\n",
    "plt.gca().set_aspect(1)\n",
    "plt.colorbar()\n",
    "plt.title(\"Result\")\n",
    "\n",
    "plt.figure()\n",
    "m = abs(ref).max()\n",
    "plt.contourf(model.grid.X, model.grid.Y, ref,\n",
    "            jnp.linspace(-m * (1 + 1.0e-10), m * (1 + 1.0e-10), 64), cmap=\"bwr\")\n",
    "plt.gca().set_aspect(1)\n",
    "plt.colorbar()\n",
    "plt.title(\"Reference\")\n",
    "\n",
    "plt.figure()\n",
    "m = abs(result - ref).max()\n",
    "plt.contourf(model.grid.X, model.grid.Y, result - ref,\n",
    "            jnp.linspace(-m * (1 + 1.0e-10), m * (1 + 1.0e-10), 64), cmap=\"bwr\")\n",
    "plt.gca().set_aspect(1)\n",
    "plt.colorbar()\n",
    "plt.title(\"Error\")\n",
    "\n",
    "assert abs((result - ref)[8:-8, 8:-8]).max() < 0.2 * abs(ref[8:-8, 8:-8]).max()"
   ]
  },
  {
   "cell_type": "markdown",
   "id": "5619785b-1578-4f02-ab3a-a6a4c0797dd1",
   "metadata": {},
   "source": [
    "We have a reasonable result, except at the east and west boundaries.\n",
    "\n",
    "While we might expect to do much better for this problem if we applied a deterministic optimizer, there is also a more fundamental problem here. bt_ocean applies free slip boundary conditions, meaning that the vorticity satisfies homogeneous Dirichlet boundary conditions. This means that there are perturbations we can apply to the right-hand-side (contributions to $Q$) which do not affect the dynamics &ndash; and consequently derivatives of the loss with respect to the right-hand-side forcing, evaluated in directions associated with these perturbations, are zero. This non-regularized inverse problem is ill-posed, and we see this here by finding that, given only the trajectory of the numerical model, we cannot recover the wind stress curl term on the boundary."
   ]
  },
  {
   "cell_type": "markdown",
   "id": "62bfc02f-a6f0-41d7-a535-7fef207ae5dd",
   "metadata": {},
   "source": [
    "## Increasing the complexity\n",
    "\n",
    "Here we have used Keras to solve a standard variational optimization problem, by defining a very simple Keras model. However we can make the Keras model `Q_network` much more complex, and can also use the `Dynamics` layer itself as part of a more complicated 'outer' Keras model. That is, we can embed neural networks within bt_ocean, and can also embed bt_ocean within neural networks. The main restriction is that use of the embedded neural network (by the `update` callable in this example) can only change the `dynamics` argument, but cannot change other arguments (here `Q_network`) or have other side effects. This means for example that evaluating the embedded neural network cannot change the neural network itself &ndash; as occurs e.g. with batch normalization."
   ]
  }
 ],
 "metadata": {
  "kernelspec": {
   "display_name": "Python 3 (ipykernel)",
   "language": "python",
   "name": "python3"
  },
  "language_info": {
   "codemirror_mode": {
    "name": "ipython",
    "version": 3
   },
   "file_extension": ".py",
   "mimetype": "text/x-python",
   "name": "python",
   "nbconvert_exporter": "python",
   "pygments_lexer": "ipython3",
   "version": "3.12.3"
  }
 },
 "nbformat": 4,
 "nbformat_minor": 5
}
