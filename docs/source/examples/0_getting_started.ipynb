{
 "cells": [
  {
   "cell_type": "markdown",
   "id": "f8200435",
   "metadata": {},
   "source": [
    "# Getting started with bt_ocean\n",
    "\n",
    "bt_ocean is a GPU capable differentiable solver for the barotropic vorticity equation, using a tensor product Chebsyhev pseudospectral discretization, for classic wind-forced Munk-Stommel ocean gyre simulations. This notebook provides an example of configuring and running the model, computing a simple diagnostics, and then differentiating the diagnostic using reverse mode autodiff."
   ]
  },
  {
   "cell_type": "markdown",
   "id": "24d3dac7-b746-4144-a0e4-06f18e708afb",
   "metadata": {},
   "source": [
    "## Configuring and running the model\n",
    "\n",
    "bt_ocean includes a base set of parameters, based on parameters in\n",
    "\n",
    "  - David P. Marshall and Alistair J. Adcroft, 'Parameterization of ocean eddies: Potential vorticity mixing, energetics and Arnold's first stability theorem', Ocean Modelling 32(3-4), pp. 188&ndash;204, 2010, https://doi.org/10.1016/j.ocemod.2010.02.001\n",
    "\n",
    "The default configuration uses a reasonably high resolution and small timestep, so we here modify the parameters to use a lower resolution grid, a timestep of $30$ minutes, and a larger Laplacian viscosity. All parameters are in mks units."
   ]
  },
  {
   "cell_type": "code",
   "execution_count": null,
   "id": "39f8cd36",
   "metadata": {},
   "outputs": [],
   "source": [
    "from bt_ocean.parameters import parameters\n",
    "\n",
    "n_hour = 2\n",
    "parameters = dict(parameters)\n",
    "parameters.update({\"N_x\": 64,\n",
    "                   \"N_y\": 64,\n",
    "                   \"dt\": 3600 / n_hour,\n",
    "                   \"nu\": 2500})"
   ]
  },
  {
   "cell_type": "markdown",
   "id": "dcfd5a67-5802-454b-aab0-2383de207974",
   "metadata": {},
   "source": [
    "We can now instantiate a solver for the barotropic vorticity equation using a CNAB2 time discretization."
   ]
  },
  {
   "cell_type": "code",
   "execution_count": null,
   "id": "fe4b5ce4-a137-4641-b0f2-72634f406b32",
   "metadata": {},
   "outputs": [],
   "source": [
    "%matplotlib inline\n",
    "\n",
    "from bt_ocean.model import CNAB2Solver\n",
    "from bt_ocean.parameters import tau_0, rho_0, D, Q\n",
    "\n",
    "import jax\n",
    "import jax.numpy as jnp\n",
    "from jax.scipy.integrate import trapezoid\n",
    "import matplotlib.pyplot as plt\n",
    "\n",
    "jax.config.update(\"jax_enable_x64\", True)\n",
    "\n",
    "model = CNAB2Solver(parameters)"
   ]
  },
  {
   "cell_type": "markdown",
   "id": "a1078c00-2cf2-41b1-8d55-bca0688eb388",
   "metadata": {},
   "source": [
    "bt_ocean uses a tensor product Chebyshev pseudospectral discretization for the dynamical equations, using Chebyshev nodes of the second kind in each dimension. In the above we requested use of degree $64$ polynomials for each dimension, corresponding to $65$ Chebyshev nodes in each dimension. Let's visualize the resulting 2D grid."
   ]
  },
  {
   "cell_type": "code",
   "execution_count": null,
   "id": "34fd87af-72e3-4745-9865-a2ea7a7c8c8d",
   "metadata": {},
   "outputs": [],
   "source": [
    "plt.figure()\n",
    "plt.plot(model.grid.X, model.grid.Y, \"ko\", markersize=1)\n",
    "plt.gca().set_aspect(1)"
   ]
  },
  {
   "cell_type": "markdown",
   "id": "71b33945-187b-414f-8d72-5d7faf232372",
   "metadata": {},
   "source": [
    "As expected we see the characteristic clustering of nodes towards the domain boundaries.\n",
    "\n",
    "Before timestepping the model we need to define a wind stress. Again we can use the wind stress parameters from the base configuration &ndash; being precise we define the wind stress curl, divided by the density and thickness, $Q$."
   ]
  },
  {
   "cell_type": "code",
   "execution_count": null,
   "id": "da0a2a77-7ba5-4184-bd7f-9a5efbca22f2",
   "metadata": {},
   "outputs": [],
   "source": [
    "model.fields[\"Q\"] = Q(model.grid)"
   ]
  },
  {
   "cell_type": "markdown",
   "id": "870679c2-0350-4212-9db3-8ebd1fe3317d",
   "metadata": {},
   "source": [
    "We are now ready to timestep the model. Let's run the model for $30$ days and plot the resulting transport stream function."
   ]
  },
  {
   "cell_type": "code",
   "execution_count": null,
   "id": "fe69a299-cc82-429d-af6a-d5646a6a3bc6",
   "metadata": {},
   "outputs": [],
   "source": [
    "n_day = 24 * n_hour\n",
    "\n",
    "model.initialize()\n",
    "for _ in range(30 * n_day):\n",
    "    model.step()\n",
    "    if model.n % (5 * n_day) == 0:\n",
    "        print(f\"{model.n // n_day=} {model.ke()=}\")\n",
    "\n",
    "plt.figure()\n",
    "m = D * abs(model.fields[\"psi\"]).max() / 1e6\n",
    "plt.contourf(model.grid.X, model.grid.Y, D * model.fields[\"psi\"] / 1.0e6,\n",
    "             jnp.linspace(-m * (1 + 1.0e-10), m * (1 + 1.0e-10), 64), cmap=\"bwr\")\n",
    "plt.gca().set_aspect(1)\n",
    "plt.colorbar()"
   ]
  },
  {
   "cell_type": "markdown",
   "id": "d888ef26-6fdd-4a1c-abe4-68809491abc0",
   "metadata": {},
   "source": [
    "We can see the start of the separating jet in this low resolution double gyre configuration.\n",
    "\n",
    "Let's compute the eastward advective potential vorticity flux one Munk width from the western boundary in the northern half of the domain. To do this we compute the eastward velocity $u$, interpolate $u$ and the potential vorticity $q$, compute their product, and then use the trapezoidal rule."
   ]
  },
  {
   "cell_type": "code",
   "execution_count": null,
   "id": "b2c8fce3-f861-442c-a4c0-63caf226fa9c",
   "metadata": {},
   "outputs": [],
   "source": [
    "def pv_flux(model):\n",
    "    u = -model.fields[\"psi\"] @ model.grid.D_y.T\n",
    "    x = jnp.array((-model.grid.L_x + jnp.cbrt(model.nu / model.beta),))\n",
    "    y = jnp.linspace(0, model.grid.L_y, 1025)\n",
    "    u_munk = model.grid.interpolate(u, x, y)[0, :]\n",
    "    q_munk = model.grid.interpolate(model.fields[\"zeta\"] + model.beta * model.grid.Y, x, y)[0, :]\n",
    "    return trapezoid(u_munk * q_munk, y)\n",
    "\n",
    "\n",
    "print(f\"{pv_flux(model)=}\")"
   ]
  },
  {
   "cell_type": "markdown",
   "id": "3c069de8-ed48-4a0d-8ca7-0ee3180cb8b5",
   "metadata": {},
   "source": [
    "## Autodiff\n",
    "\n",
    "Let's compute the reverse mode derivative of this PV flux with respect to the wind stress curl profile $Q$. Since JAX differentiates pure functions we first we write a function which performs the entire calculation. Here we also apply a basic reverse mode checkpointing approach, checkpointing every time step."
   ]
  },
  {
   "cell_type": "code",
   "execution_count": null,
   "id": "9e255d1b-899b-4a60-bd8e-f65907e89b0e",
   "metadata": {},
   "outputs": [],
   "source": [
    "def forward(Q):\n",
    "    @jax.checkpoint\n",
    "    def step(_, model):\n",
    "        model.step()\n",
    "        return model\n",
    "\n",
    "    model = CNAB2Solver(parameters)\n",
    "    model.fields[\"Q\"] = Q\n",
    "    model = jax.lax.fori_loop(0, 30 * n_day, step, model)\n",
    "    return pv_flux(model)"
   ]
  },
  {
   "cell_type": "markdown",
   "id": "fe8f0b1b-80a8-4343-b129-d3270aacb200",
   "metadata": {},
   "source": [
    "We can now apply reverse mode autodiff."
   ]
  },
  {
   "cell_type": "code",
   "execution_count": null,
   "id": "02dd4d3d-c73b-458a-b737-edbd6e38b42b",
   "metadata": {},
   "outputs": [],
   "source": [
    "flux, vjp = jax.vjp(forward, model.fields[\"Q\"])\n",
    "print(f\"{flux=}\")\n",
    "dflux_dual, = vjp(1.0)"
   ]
  },
  {
   "cell_type": "markdown",
   "id": "10603411-3901-4201-bffe-1a4bf7d9aa2a",
   "metadata": {},
   "source": [
    "We need to be a little careful when we plot the result, as the result of a derivative of a functional is a dual space object &ndash; it is a linear functional which maps discrete functions to values. To plot the result we need to make use of a Riesz map, which uses an inner product to define a map from linear functionals to discrete functions. Specifically if $V$ is a real finite dimensional primal function space, and $g \\in V^*$ is a dual space derivative, then we can define an associated primal space gradient $g^\\sharp \\in V$ via\n",
    "\n",
    "$$\\forall \\phi \\in V \\qquad g ( \\phi ) = \\langle g^\\sharp, \\phi \\rangle,$$\n",
    "\n",
    "where $\\langle \\cdot, \\cdot \\rangle$ is the inner product which defines the Riesz map.\n",
    "\n",
    "Here we use the Riesz map defined by the $L^2$ inner product, with the $L^2$ inner product approximated using Clenshaw-Curtis quadrature. Conceptually, this re-weights the derivative to take account of the use of the non-uniform 2D Chebyshev grid."
   ]
  },
  {
   "cell_type": "code",
   "execution_count": null,
   "id": "08402961-1808-4eb8-ac4f-ae596a92bda9",
   "metadata": {},
   "outputs": [],
   "source": [
    "dflux_primal = dflux_dual / model.grid.W\n",
    "\n",
    "plt.figure()\n",
    "m = abs(dflux_primal).max()\n",
    "plt.contourf(model.grid.X, model.grid.Y, dflux_primal,\n",
    "             jnp.linspace(-m * (1 + 1.0e-10), m * (1 + 1.0e-10), 64), cmap=\"bwr\")\n",
    "plt.gca().set_aspect(1)\n",
    "plt.colorbar()"
   ]
  },
  {
   "cell_type": "markdown",
   "id": "1843bd47-7927-4fd0-8f78-90df5b869dca",
   "metadata": {},
   "source": [
    "If $g \\in V^*$ is the derivative of a functional $J : V \\rightarrow \\mathbb{R}$ evaluated at some $Q \\in V$ then we have, for some direction $\\eta \\in V$,\n",
    "\n",
    "$$\\frac{d}{d \\alpha} J ( Q + \\alpha \\eta ) = g ( \\eta ) = \\langle g^\\sharp, \\eta \\rangle,$$\n",
    "\n",
    "where here $\\alpha$ is a scalar."
   ]
  },
  {
   "cell_type": "code",
   "execution_count": null,
   "id": "585a6343-57c4-40de-b48c-f9d893d8da79",
   "metadata": {},
   "outputs": [],
   "source": [
    "Q_0 = tau_0 * jnp.pi / (D * rho_0 * model.grid.L_y)\n",
    "eta = Q_0 * (jnp.sin(jnp.pi * (model.grid.X + model.grid.L_x) / (2 * model.grid.L_x))\n",
    "             * jnp.sin(jnp.pi * (model.grid.Y + model.grid.L_y) / (2 * model.grid.L_y)))\n",
    "dflux_primal_eta = jnp.tensordot(dflux_dual, eta)\n",
    "print(f\"{dflux_primal_eta=}\")"
   ]
  },
  {
   "cell_type": "markdown",
   "id": "78b32af4-f5ff-4204-a38e-ed89e9ef62e2",
   "metadata": {},
   "source": [
    "We can compare with the result from finite differencing."
   ]
  },
  {
   "cell_type": "code",
   "execution_count": null,
   "id": "7b15248f-b501-4c0f-852b-78ba2e914345",
   "metadata": {},
   "outputs": [],
   "source": [
    "eps = 1.0e-5\n",
    "dflux_primal_eta_fd = (forward(model.fields[\"Q\"] + eps * eta) - forward(model.fields[\"Q\"] - eps * eta)) / (2 * eps)\n",
    "print(f\"{dflux_primal_eta_fd=}\")\n",
    "assert abs(dflux_primal_eta - dflux_primal_eta_fd) < 1.0e-9 * abs(dflux_primal_eta_fd)"
   ]
  }
 ],
 "metadata": {
  "kernelspec": {
   "display_name": "Python 3 (ipykernel)",
   "language": "python",
   "name": "python3"
  },
  "language_info": {
   "codemirror_mode": {
    "name": "ipython",
    "version": 3
   },
   "file_extension": ".py",
   "mimetype": "text/x-python",
   "name": "python",
   "nbconvert_exporter": "python",
   "pygments_lexer": "ipython3",
   "version": "3.12.3"
  }
 },
 "nbformat": 4,
 "nbformat_minor": 5
}
